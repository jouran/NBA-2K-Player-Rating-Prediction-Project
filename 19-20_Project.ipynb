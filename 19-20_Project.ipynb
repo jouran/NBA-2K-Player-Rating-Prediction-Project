{
 "cells": [
  {
   "cell_type": "markdown",
   "metadata": {},
   "source": [
    "# IEOR 4523 - 2K RATING PROJECT #"
   ]
  },
  {
   "cell_type": "markdown",
   "metadata": {},
   "source": [
    "<h1>Project Description<h1>\n"
   ]
  },
  {
   "cell_type": "markdown",
   "metadata": {},
   "source": [
    "Contributed by:\n",
    "    \n",
    "<li>Zheyuan Hu\n",
    "<li>Shihao Peng\n",
    "<li>Suyang Song\n",
    "<li>Yang Rong  "
   ]
  },
  {
   "cell_type": "code",
   "execution_count": 1,
   "metadata": {},
   "outputs": [],
   "source": [
    "#Import Libraries\n",
    "import pandas as pd\n",
    "import numpy as np\n",
    "\n",
    "from sklearn.decomposition import PCA\n",
    "from sklearn.preprocessing import StandardScaler\n",
    "from sklearn.linear_model import LinearRegression\n",
    "from sklearn.linear_model import LogisticRegression\n",
    "from sklearn.neural_network import MLPClassifier\n",
    "from sklearn.feature_selection import mutual_info_regression,f_regression\n",
    "from sklearn.model_selection import train_test_split\n",
    "from sklearn import preprocessing\n",
    "from sklearn.metrics import mean_squared_error, r2_score\n",
    "\n",
    "import matplotlib.pyplot as plt\n",
    "%matplotlib inline\n",
    "import seaborn as sns"
   ]
  },
  {
   "cell_type": "markdown",
   "metadata": {},
   "source": [
    "# Data Preprocessing #"
   ]
  },
  {
   "cell_type": "code",
   "execution_count": 2,
   "metadata": {},
   "outputs": [
    {
     "data": {
      "text/html": [
       "<div>\n",
       "<style scoped>\n",
       "    .dataframe tbody tr th:only-of-type {\n",
       "        vertical-align: middle;\n",
       "    }\n",
       "\n",
       "    .dataframe tbody tr th {\n",
       "        vertical-align: top;\n",
       "    }\n",
       "\n",
       "    .dataframe thead th {\n",
       "        text-align: right;\n",
       "    }\n",
       "</style>\n",
       "<table border=\"1\" class=\"dataframe\">\n",
       "  <thead>\n",
       "    <tr style=\"text-align: right;\">\n",
       "      <th></th>\n",
       "      <th>Unnamed: 0</th>\n",
       "      <th>Unnamed: 0.1</th>\n",
       "      <th>#</th>\n",
       "      <th>Player</th>\n",
       "      <th>Team</th>\n",
       "      <th>GP</th>\n",
       "      <th>MPG</th>\n",
       "      <th>FGM</th>\n",
       "      <th>FGA</th>\n",
       "      <th>FG%</th>\n",
       "      <th>...</th>\n",
       "      <th>TOV</th>\n",
       "      <th>PF</th>\n",
       "      <th>ORB</th>\n",
       "      <th>DRB</th>\n",
       "      <th>RPG</th>\n",
       "      <th>APG</th>\n",
       "      <th>SPG</th>\n",
       "      <th>BPG</th>\n",
       "      <th>PPG</th>\n",
       "      <th>Rating</th>\n",
       "    </tr>\n",
       "  </thead>\n",
       "  <tbody>\n",
       "    <tr>\n",
       "      <th>0</th>\n",
       "      <td>0</td>\n",
       "      <td>NaN</td>\n",
       "      <td>1</td>\n",
       "      <td>James Harden</td>\n",
       "      <td>HOU</td>\n",
       "      <td>68</td>\n",
       "      <td>36.5</td>\n",
       "      <td>9.9</td>\n",
       "      <td>22.3</td>\n",
       "      <td>0.444</td>\n",
       "      <td>...</td>\n",
       "      <td>4.5</td>\n",
       "      <td>3.3</td>\n",
       "      <td>1.0</td>\n",
       "      <td>5.5</td>\n",
       "      <td>6.6</td>\n",
       "      <td>7.5</td>\n",
       "      <td>1.8</td>\n",
       "      <td>0.9</td>\n",
       "      <td>34.3</td>\n",
       "      <td>96</td>\n",
       "    </tr>\n",
       "    <tr>\n",
       "      <th>1</th>\n",
       "      <td>1</td>\n",
       "      <td>NaN</td>\n",
       "      <td>2</td>\n",
       "      <td>Bradley Beal</td>\n",
       "      <td>WAS</td>\n",
       "      <td>57</td>\n",
       "      <td>36.0</td>\n",
       "      <td>10.4</td>\n",
       "      <td>22.9</td>\n",
       "      <td>0.455</td>\n",
       "      <td>...</td>\n",
       "      <td>3.4</td>\n",
       "      <td>2.2</td>\n",
       "      <td>0.9</td>\n",
       "      <td>3.3</td>\n",
       "      <td>4.2</td>\n",
       "      <td>6.1</td>\n",
       "      <td>1.2</td>\n",
       "      <td>0.4</td>\n",
       "      <td>30.5</td>\n",
       "      <td>88</td>\n",
       "    </tr>\n",
       "    <tr>\n",
       "      <th>2</th>\n",
       "      <td>2</td>\n",
       "      <td>NaN</td>\n",
       "      <td>3</td>\n",
       "      <td>Damian Lillard</td>\n",
       "      <td>POR</td>\n",
       "      <td>66</td>\n",
       "      <td>37.5</td>\n",
       "      <td>9.5</td>\n",
       "      <td>20.4</td>\n",
       "      <td>0.463</td>\n",
       "      <td>...</td>\n",
       "      <td>2.9</td>\n",
       "      <td>1.7</td>\n",
       "      <td>0.5</td>\n",
       "      <td>3.8</td>\n",
       "      <td>4.3</td>\n",
       "      <td>8.0</td>\n",
       "      <td>1.1</td>\n",
       "      <td>0.3</td>\n",
       "      <td>30.0</td>\n",
       "      <td>94</td>\n",
       "    </tr>\n",
       "    <tr>\n",
       "      <th>3</th>\n",
       "      <td>3</td>\n",
       "      <td>NaN</td>\n",
       "      <td>4</td>\n",
       "      <td>Trae Young</td>\n",
       "      <td>ATL</td>\n",
       "      <td>60</td>\n",
       "      <td>35.3</td>\n",
       "      <td>9.1</td>\n",
       "      <td>20.8</td>\n",
       "      <td>0.437</td>\n",
       "      <td>...</td>\n",
       "      <td>4.8</td>\n",
       "      <td>1.7</td>\n",
       "      <td>0.5</td>\n",
       "      <td>3.7</td>\n",
       "      <td>4.2</td>\n",
       "      <td>9.3</td>\n",
       "      <td>1.1</td>\n",
       "      <td>0.1</td>\n",
       "      <td>29.6</td>\n",
       "      <td>88</td>\n",
       "    </tr>\n",
       "    <tr>\n",
       "      <th>4</th>\n",
       "      <td>4</td>\n",
       "      <td>NaN</td>\n",
       "      <td>5</td>\n",
       "      <td>Giannis Antetokounmpo</td>\n",
       "      <td>MIL</td>\n",
       "      <td>63</td>\n",
       "      <td>30.4</td>\n",
       "      <td>10.9</td>\n",
       "      <td>19.7</td>\n",
       "      <td>0.553</td>\n",
       "      <td>...</td>\n",
       "      <td>3.7</td>\n",
       "      <td>3.1</td>\n",
       "      <td>2.2</td>\n",
       "      <td>11.4</td>\n",
       "      <td>13.6</td>\n",
       "      <td>5.6</td>\n",
       "      <td>1.0</td>\n",
       "      <td>1.0</td>\n",
       "      <td>29.5</td>\n",
       "      <td>97</td>\n",
       "    </tr>\n",
       "  </tbody>\n",
       "</table>\n",
       "<p>5 rows × 26 columns</p>\n",
       "</div>"
      ],
      "text/plain": [
       "   Unnamed: 0  Unnamed: 0.1  #                 Player Team  GP   MPG   FGM  \\\n",
       "0           0           NaN  1           James Harden  HOU  68  36.5   9.9   \n",
       "1           1           NaN  2           Bradley Beal  WAS  57  36.0  10.4   \n",
       "2           2           NaN  3         Damian Lillard  POR  66  37.5   9.5   \n",
       "3           3           NaN  4             Trae Young  ATL  60  35.3   9.1   \n",
       "4           4           NaN  5  Giannis Antetokounmpo  MIL  63  30.4  10.9   \n",
       "\n",
       "    FGA    FG%  ...  TOV   PF  ORB   DRB   RPG  APG  SPG  BPG   PPG  Rating  \n",
       "0  22.3  0.444  ...  4.5  3.3  1.0   5.5   6.6  7.5  1.8  0.9  34.3      96  \n",
       "1  22.9  0.455  ...  3.4  2.2  0.9   3.3   4.2  6.1  1.2  0.4  30.5      88  \n",
       "2  20.4  0.463  ...  2.9  1.7  0.5   3.8   4.3  8.0  1.1  0.3  30.0      94  \n",
       "3  20.8  0.437  ...  4.8  1.7  0.5   3.7   4.2  9.3  1.1  0.1  29.6      88  \n",
       "4  19.7  0.553  ...  3.7  3.1  2.2  11.4  13.6  5.6  1.0  1.0  29.5      97  \n",
       "\n",
       "[5 rows x 26 columns]"
      ]
     },
     "execution_count": 2,
     "metadata": {},
     "output_type": "execute_result"
    }
   ],
   "source": [
    "#Import data from CSV files\n",
    "#df_19_20_reg = pd.read_csv('nba_data/2019-2020/merged2019-2020regular.csv')\n",
    "#df_19_20_off = pd.read_csv('nba_data/2019-2020/merged2019-2020playoff.csv')\n",
    "df_19_20_reg = pd.read_csv('nba-data/2019-2020/merged2019-2020regular.csv')\n",
    "df_19_20_off = pd.read_csv('nba-data/2019-2020/merged2019-2020playoff.csv')\n",
    "df_19_20_reg.head()"
   ]
  },
  {
   "cell_type": "code",
   "execution_count": 3,
   "metadata": {},
   "outputs": [
    {
     "data": {
      "text/plain": [
       "Unnamed: 0        0\n",
       "Unnamed: 0.1    249\n",
       "#                 0\n",
       "Player            0\n",
       "Team              0\n",
       "GP                0\n",
       "MPG               0\n",
       "FGM               0\n",
       "FGA               0\n",
       "FG%               0\n",
       "3PM               0\n",
       "3PA               0\n",
       "3P%               0\n",
       "FTM               0\n",
       "FTA               0\n",
       "FT%               0\n",
       "TOV               0\n",
       "PF                0\n",
       "ORB               0\n",
       "DRB               0\n",
       "RPG               0\n",
       "APG               0\n",
       "SPG               0\n",
       "BPG               0\n",
       "PPG               0\n",
       "Rating            0\n",
       "dtype: int64"
      ]
     },
     "execution_count": 3,
     "metadata": {},
     "output_type": "execute_result"
    }
   ],
   "source": [
    "#Check missing values\n",
    "missing_values_count = df_19_20_reg.isnull().sum()\n",
    "missing_values_count"
   ]
  },
  {
   "cell_type": "code",
   "execution_count": 4,
   "metadata": {},
   "outputs": [
    {
     "name": "stdout",
     "output_type": "stream",
     "text": [
      "                  Player Team  GP   MPG   FGM   FGA    FG%  3PM   3PA    3P%  \\\n",
      "0           James Harden  HOU  68  36.5   9.9  22.3  0.444  4.4  12.4  0.355   \n",
      "1           Bradley Beal  WAS  57  36.0  10.4  22.9  0.455  3.0   8.4  0.353   \n",
      "2         Damian Lillard  POR  66  37.5   9.5  20.4  0.463  4.1  10.2  0.401   \n",
      "3             Trae Young  ATL  60  35.3   9.1  20.8  0.437  3.4   9.5  0.361   \n",
      "4  Giannis Antetokounmpo  MIL  63  30.4  10.9  19.7  0.553  1.4   4.7  0.304   \n",
      "\n",
      "   ...  TOV   PF  ORB   DRB   RPG  APG  SPG  BPG   PPG  Rating  \n",
      "0  ...  4.5  3.3  1.0   5.5   6.6  7.5  1.8  0.9  34.3      96  \n",
      "1  ...  3.4  2.2  0.9   3.3   4.2  6.1  1.2  0.4  30.5      88  \n",
      "2  ...  2.9  1.7  0.5   3.8   4.3  8.0  1.1  0.3  30.0      94  \n",
      "3  ...  4.8  1.7  0.5   3.7   4.2  9.3  1.1  0.1  29.6      88  \n",
      "4  ...  3.7  3.1  2.2  11.4  13.6  5.6  1.0  1.0  29.5      97  \n",
      "\n",
      "[5 rows x 23 columns]\n",
      "             Player Team  GP   MPG   FGM   FGA    FG%  3PM  3PA    3P%  ...  \\\n",
      "0  Donovan Mitchell  UTA   7  37.7  11.9  22.4  0.529  4.7  9.1  0.516  ...   \n",
      "1       Luka Doncic  DAL   6  35.8  10.7  21.3  0.500  2.7  7.3  0.364  ...   \n",
      "2       Joel Embiid  PHI   4  36.1   8.5  18.5  0.459  1.0  4.0  0.250  ...   \n",
      "3      James Harden  HOU  12  37.3   9.1  19.0  0.478  3.2  9.8  0.333  ...   \n",
      "4     Kawhi Leonard  LAC  13  39.3  10.1  20.6  0.489  1.8  5.6  0.329  ...   \n",
      "\n",
      "   TOV   PF  ORB  DRB   RPG  APG  SPG  BPG   PPG  Rating  \n",
      "0  4.1  1.6  0.9  4.1   5.0  4.9  1.0  0.3  36.3      88  \n",
      "1  5.2  2.8  0.7  9.2   9.8  8.7  1.2  0.5  31.0      94  \n",
      "2  3.8  4.5  2.8  9.5  12.2  1.2  1.5  1.2  30.0      91  \n",
      "3  3.8  3.6  1.0  4.6   5.6  7.7  1.5  0.8  29.6      96  \n",
      "4  2.5  2.2  1.8  7.5   9.3  5.5  2.3  0.8  28.2      96  \n",
      "\n",
      "[5 rows x 23 columns]\n"
     ]
    }
   ],
   "source": [
    "#drop columns with missing value\n",
    "df_19_20_reg_d = df_19_20_reg.drop(['Unnamed: 0','#','Unnamed: 0.1'],axis = 1).copy()\n",
    "df_19_20_off_d = df_19_20_off.drop(['Unnamed: 0','#','Unnamed: 0.1'],axis = 1).copy()\n",
    "print(df_19_20_reg_d.head())\n",
    "print(df_19_20_off_d.head())"
   ]
  },
  {
   "cell_type": "code",
   "execution_count": 5,
   "metadata": {},
   "outputs": [
    {
     "data": {
      "text/html": [
       "<div>\n",
       "<style scoped>\n",
       "    .dataframe tbody tr th:only-of-type {\n",
       "        vertical-align: middle;\n",
       "    }\n",
       "\n",
       "    .dataframe tbody tr th {\n",
       "        vertical-align: top;\n",
       "    }\n",
       "\n",
       "    .dataframe thead th {\n",
       "        text-align: right;\n",
       "    }\n",
       "</style>\n",
       "<table border=\"1\" class=\"dataframe\">\n",
       "  <thead>\n",
       "    <tr style=\"text-align: right;\">\n",
       "      <th></th>\n",
       "      <th></th>\n",
       "      <th>GP</th>\n",
       "      <th>MPG</th>\n",
       "      <th>FGM</th>\n",
       "      <th>FGA</th>\n",
       "      <th>FG%</th>\n",
       "      <th>3PM</th>\n",
       "      <th>3PA</th>\n",
       "      <th>3P%</th>\n",
       "      <th>FTM</th>\n",
       "      <th>FTA</th>\n",
       "      <th>...</th>\n",
       "      <th>TOV</th>\n",
       "      <th>PF</th>\n",
       "      <th>ORB</th>\n",
       "      <th>DRB</th>\n",
       "      <th>RPG</th>\n",
       "      <th>APG</th>\n",
       "      <th>SPG</th>\n",
       "      <th>BPG</th>\n",
       "      <th>PPG</th>\n",
       "      <th>Rating</th>\n",
       "    </tr>\n",
       "    <tr>\n",
       "      <th>Player</th>\n",
       "      <th>Team</th>\n",
       "      <th></th>\n",
       "      <th></th>\n",
       "      <th></th>\n",
       "      <th></th>\n",
       "      <th></th>\n",
       "      <th></th>\n",
       "      <th></th>\n",
       "      <th></th>\n",
       "      <th></th>\n",
       "      <th></th>\n",
       "      <th></th>\n",
       "      <th></th>\n",
       "      <th></th>\n",
       "      <th></th>\n",
       "      <th></th>\n",
       "      <th></th>\n",
       "      <th></th>\n",
       "      <th></th>\n",
       "      <th></th>\n",
       "      <th></th>\n",
       "      <th></th>\n",
       "    </tr>\n",
       "  </thead>\n",
       "  <tbody>\n",
       "    <tr>\n",
       "      <th>Aaron Gordon</th>\n",
       "      <th>ORL</th>\n",
       "      <td>62.0</td>\n",
       "      <td>32.50</td>\n",
       "      <td>5.40</td>\n",
       "      <td>12.40</td>\n",
       "      <td>0.4370</td>\n",
       "      <td>1.20</td>\n",
       "      <td>3.80</td>\n",
       "      <td>0.3080</td>\n",
       "      <td>2.40</td>\n",
       "      <td>3.60</td>\n",
       "      <td>...</td>\n",
       "      <td>1.60</td>\n",
       "      <td>2.00</td>\n",
       "      <td>1.70</td>\n",
       "      <td>5.90</td>\n",
       "      <td>7.70</td>\n",
       "      <td>3.70</td>\n",
       "      <td>0.80</td>\n",
       "      <td>0.60</td>\n",
       "      <td>14.40</td>\n",
       "      <td>80.0</td>\n",
       "    </tr>\n",
       "    <tr>\n",
       "      <th>Aaron Holiday</th>\n",
       "      <th>IND</th>\n",
       "      <td>35.0</td>\n",
       "      <td>21.25</td>\n",
       "      <td>3.25</td>\n",
       "      <td>6.85</td>\n",
       "      <td>0.4925</td>\n",
       "      <td>1.15</td>\n",
       "      <td>2.75</td>\n",
       "      <td>0.4190</td>\n",
       "      <td>0.95</td>\n",
       "      <td>1.25</td>\n",
       "      <td>...</td>\n",
       "      <td>1.15</td>\n",
       "      <td>2.15</td>\n",
       "      <td>0.25</td>\n",
       "      <td>1.50</td>\n",
       "      <td>1.80</td>\n",
       "      <td>2.95</td>\n",
       "      <td>0.90</td>\n",
       "      <td>0.10</td>\n",
       "      <td>8.65</td>\n",
       "      <td>76.0</td>\n",
       "    </tr>\n",
       "    <tr>\n",
       "      <th>Abdel Nader</th>\n",
       "      <th>OKC</th>\n",
       "      <td>55.0</td>\n",
       "      <td>15.80</td>\n",
       "      <td>2.20</td>\n",
       "      <td>4.80</td>\n",
       "      <td>0.4680</td>\n",
       "      <td>0.90</td>\n",
       "      <td>2.30</td>\n",
       "      <td>0.3750</td>\n",
       "      <td>0.90</td>\n",
       "      <td>1.20</td>\n",
       "      <td>...</td>\n",
       "      <td>0.80</td>\n",
       "      <td>1.40</td>\n",
       "      <td>0.30</td>\n",
       "      <td>1.60</td>\n",
       "      <td>1.80</td>\n",
       "      <td>0.70</td>\n",
       "      <td>0.40</td>\n",
       "      <td>0.40</td>\n",
       "      <td>6.30</td>\n",
       "      <td>71.0</td>\n",
       "    </tr>\n",
       "    <tr>\n",
       "      <th>Al Horford</th>\n",
       "      <th>PHI</th>\n",
       "      <td>35.5</td>\n",
       "      <td>31.15</td>\n",
       "      <td>3.90</td>\n",
       "      <td>8.40</td>\n",
       "      <td>0.4650</td>\n",
       "      <td>0.75</td>\n",
       "      <td>2.60</td>\n",
       "      <td>0.1750</td>\n",
       "      <td>0.95</td>\n",
       "      <td>1.50</td>\n",
       "      <td>...</td>\n",
       "      <td>1.00</td>\n",
       "      <td>2.80</td>\n",
       "      <td>1.85</td>\n",
       "      <td>5.15</td>\n",
       "      <td>7.00</td>\n",
       "      <td>3.10</td>\n",
       "      <td>0.50</td>\n",
       "      <td>1.05</td>\n",
       "      <td>9.45</td>\n",
       "      <td>80.0</td>\n",
       "    </tr>\n",
       "    <tr>\n",
       "      <th>Al-Farouq Aminu</th>\n",
       "      <th>ORL</th>\n",
       "      <td>18.0</td>\n",
       "      <td>21.10</td>\n",
       "      <td>1.40</td>\n",
       "      <td>4.80</td>\n",
       "      <td>0.2910</td>\n",
       "      <td>0.50</td>\n",
       "      <td>2.00</td>\n",
       "      <td>0.2500</td>\n",
       "      <td>1.10</td>\n",
       "      <td>1.60</td>\n",
       "      <td>...</td>\n",
       "      <td>0.90</td>\n",
       "      <td>1.50</td>\n",
       "      <td>1.30</td>\n",
       "      <td>3.50</td>\n",
       "      <td>4.80</td>\n",
       "      <td>1.20</td>\n",
       "      <td>1.00</td>\n",
       "      <td>0.40</td>\n",
       "      <td>4.30</td>\n",
       "      <td>75.0</td>\n",
       "    </tr>\n",
       "    <tr>\n",
       "      <th>...</th>\n",
       "      <th>...</th>\n",
       "      <td>...</td>\n",
       "      <td>...</td>\n",
       "      <td>...</td>\n",
       "      <td>...</td>\n",
       "      <td>...</td>\n",
       "      <td>...</td>\n",
       "      <td>...</td>\n",
       "      <td>...</td>\n",
       "      <td>...</td>\n",
       "      <td>...</td>\n",
       "      <td>...</td>\n",
       "      <td>...</td>\n",
       "      <td>...</td>\n",
       "      <td>...</td>\n",
       "      <td>...</td>\n",
       "      <td>...</td>\n",
       "      <td>...</td>\n",
       "      <td>...</td>\n",
       "      <td>...</td>\n",
       "      <td>...</td>\n",
       "      <td>...</td>\n",
       "    </tr>\n",
       "    <tr>\n",
       "      <th>Wesley Iwundu</th>\n",
       "      <th>ORL</th>\n",
       "      <td>28.5</td>\n",
       "      <td>16.75</td>\n",
       "      <td>1.55</td>\n",
       "      <td>4.25</td>\n",
       "      <td>0.3580</td>\n",
       "      <td>0.65</td>\n",
       "      <td>1.50</td>\n",
       "      <td>0.4560</td>\n",
       "      <td>1.25</td>\n",
       "      <td>1.75</td>\n",
       "      <td>...</td>\n",
       "      <td>0.55</td>\n",
       "      <td>1.25</td>\n",
       "      <td>0.35</td>\n",
       "      <td>2.05</td>\n",
       "      <td>2.35</td>\n",
       "      <td>1.00</td>\n",
       "      <td>0.55</td>\n",
       "      <td>0.30</td>\n",
       "      <td>5.00</td>\n",
       "      <td>72.0</td>\n",
       "    </tr>\n",
       "    <tr>\n",
       "      <th>Wesley Matthews</th>\n",
       "      <th>MIL</th>\n",
       "      <td>38.5</td>\n",
       "      <td>24.50</td>\n",
       "      <td>2.45</td>\n",
       "      <td>6.00</td>\n",
       "      <td>0.4085</td>\n",
       "      <td>1.65</td>\n",
       "      <td>4.35</td>\n",
       "      <td>0.3795</td>\n",
       "      <td>0.75</td>\n",
       "      <td>1.00</td>\n",
       "      <td>...</td>\n",
       "      <td>0.65</td>\n",
       "      <td>1.75</td>\n",
       "      <td>0.45</td>\n",
       "      <td>1.65</td>\n",
       "      <td>2.15</td>\n",
       "      <td>1.15</td>\n",
       "      <td>0.75</td>\n",
       "      <td>0.25</td>\n",
       "      <td>7.30</td>\n",
       "      <td>75.0</td>\n",
       "    </tr>\n",
       "    <tr>\n",
       "      <th>Will Barton</th>\n",
       "      <th>DEN</th>\n",
       "      <td>58.0</td>\n",
       "      <td>33.00</td>\n",
       "      <td>5.70</td>\n",
       "      <td>12.70</td>\n",
       "      <td>0.4500</td>\n",
       "      <td>1.90</td>\n",
       "      <td>5.00</td>\n",
       "      <td>0.3750</td>\n",
       "      <td>1.80</td>\n",
       "      <td>2.30</td>\n",
       "      <td>...</td>\n",
       "      <td>1.50</td>\n",
       "      <td>2.10</td>\n",
       "      <td>1.30</td>\n",
       "      <td>5.00</td>\n",
       "      <td>6.30</td>\n",
       "      <td>3.70</td>\n",
       "      <td>1.10</td>\n",
       "      <td>0.50</td>\n",
       "      <td>15.10</td>\n",
       "      <td>79.0</td>\n",
       "    </tr>\n",
       "    <tr>\n",
       "      <th>Willie Cauley-Stein</th>\n",
       "      <th>DAL</th>\n",
       "      <td>54.0</td>\n",
       "      <td>20.30</td>\n",
       "      <td>3.20</td>\n",
       "      <td>5.60</td>\n",
       "      <td>0.5790</td>\n",
       "      <td>0.00</td>\n",
       "      <td>0.00</td>\n",
       "      <td>0.0000</td>\n",
       "      <td>0.70</td>\n",
       "      <td>1.20</td>\n",
       "      <td>...</td>\n",
       "      <td>0.70</td>\n",
       "      <td>2.20</td>\n",
       "      <td>1.60</td>\n",
       "      <td>4.30</td>\n",
       "      <td>5.80</td>\n",
       "      <td>1.30</td>\n",
       "      <td>0.90</td>\n",
       "      <td>1.10</td>\n",
       "      <td>7.20</td>\n",
       "      <td>77.0</td>\n",
       "    </tr>\n",
       "    <tr>\n",
       "      <th>Zach LaVine</th>\n",
       "      <th>CHI</th>\n",
       "      <td>60.0</td>\n",
       "      <td>34.80</td>\n",
       "      <td>9.00</td>\n",
       "      <td>20.00</td>\n",
       "      <td>0.4500</td>\n",
       "      <td>3.10</td>\n",
       "      <td>8.10</td>\n",
       "      <td>0.3800</td>\n",
       "      <td>4.50</td>\n",
       "      <td>5.60</td>\n",
       "      <td>...</td>\n",
       "      <td>3.40</td>\n",
       "      <td>2.20</td>\n",
       "      <td>0.70</td>\n",
       "      <td>4.10</td>\n",
       "      <td>4.80</td>\n",
       "      <td>4.20</td>\n",
       "      <td>1.50</td>\n",
       "      <td>0.50</td>\n",
       "      <td>25.50</td>\n",
       "      <td>85.0</td>\n",
       "    </tr>\n",
       "  </tbody>\n",
       "</table>\n",
       "<p>267 rows × 21 columns</p>\n",
       "</div>"
      ],
      "text/plain": [
       "                            GP    MPG   FGM    FGA     FG%   3PM   3PA  \\\n",
       "Player              Team                                                 \n",
       "Aaron Gordon        ORL   62.0  32.50  5.40  12.40  0.4370  1.20  3.80   \n",
       "Aaron Holiday       IND   35.0  21.25  3.25   6.85  0.4925  1.15  2.75   \n",
       "Abdel Nader         OKC   55.0  15.80  2.20   4.80  0.4680  0.90  2.30   \n",
       "Al Horford          PHI   35.5  31.15  3.90   8.40  0.4650  0.75  2.60   \n",
       "Al-Farouq Aminu     ORL   18.0  21.10  1.40   4.80  0.2910  0.50  2.00   \n",
       "...                        ...    ...   ...    ...     ...   ...   ...   \n",
       "Wesley Iwundu       ORL   28.5  16.75  1.55   4.25  0.3580  0.65  1.50   \n",
       "Wesley Matthews     MIL   38.5  24.50  2.45   6.00  0.4085  1.65  4.35   \n",
       "Will Barton         DEN   58.0  33.00  5.70  12.70  0.4500  1.90  5.00   \n",
       "Willie Cauley-Stein DAL   54.0  20.30  3.20   5.60  0.5790  0.00  0.00   \n",
       "Zach LaVine         CHI   60.0  34.80  9.00  20.00  0.4500  3.10  8.10   \n",
       "\n",
       "                             3P%   FTM   FTA  ...   TOV    PF   ORB   DRB  \\\n",
       "Player              Team                      ...                           \n",
       "Aaron Gordon        ORL   0.3080  2.40  3.60  ...  1.60  2.00  1.70  5.90   \n",
       "Aaron Holiday       IND   0.4190  0.95  1.25  ...  1.15  2.15  0.25  1.50   \n",
       "Abdel Nader         OKC   0.3750  0.90  1.20  ...  0.80  1.40  0.30  1.60   \n",
       "Al Horford          PHI   0.1750  0.95  1.50  ...  1.00  2.80  1.85  5.15   \n",
       "Al-Farouq Aminu     ORL   0.2500  1.10  1.60  ...  0.90  1.50  1.30  3.50   \n",
       "...                          ...   ...   ...  ...   ...   ...   ...   ...   \n",
       "Wesley Iwundu       ORL   0.4560  1.25  1.75  ...  0.55  1.25  0.35  2.05   \n",
       "Wesley Matthews     MIL   0.3795  0.75  1.00  ...  0.65  1.75  0.45  1.65   \n",
       "Will Barton         DEN   0.3750  1.80  2.30  ...  1.50  2.10  1.30  5.00   \n",
       "Willie Cauley-Stein DAL   0.0000  0.70  1.20  ...  0.70  2.20  1.60  4.30   \n",
       "Zach LaVine         CHI   0.3800  4.50  5.60  ...  3.40  2.20  0.70  4.10   \n",
       "\n",
       "                           RPG   APG   SPG   BPG    PPG  Rating  \n",
       "Player              Team                                         \n",
       "Aaron Gordon        ORL   7.70  3.70  0.80  0.60  14.40    80.0  \n",
       "Aaron Holiday       IND   1.80  2.95  0.90  0.10   8.65    76.0  \n",
       "Abdel Nader         OKC   1.80  0.70  0.40  0.40   6.30    71.0  \n",
       "Al Horford          PHI   7.00  3.10  0.50  1.05   9.45    80.0  \n",
       "Al-Farouq Aminu     ORL   4.80  1.20  1.00  0.40   4.30    75.0  \n",
       "...                        ...   ...   ...   ...    ...     ...  \n",
       "Wesley Iwundu       ORL   2.35  1.00  0.55  0.30   5.00    72.0  \n",
       "Wesley Matthews     MIL   2.15  1.15  0.75  0.25   7.30    75.0  \n",
       "Will Barton         DEN   6.30  3.70  1.10  0.50  15.10    79.0  \n",
       "Willie Cauley-Stein DAL   5.80  1.30  0.90  1.10   7.20    77.0  \n",
       "Zach LaVine         CHI   4.80  4.20  1.50  0.50  25.50    85.0  \n",
       "\n",
       "[267 rows x 21 columns]"
      ]
     },
     "execution_count": 5,
     "metadata": {},
     "output_type": "execute_result"
    }
   ],
   "source": [
    "#combine data from regular season and off season, groupby them by player name and team name\n",
    "#calculate means for each feature\n",
    "\n",
    "df_combined = pd.concat([df_19_20_off_d,df_19_20_reg_d])\n",
    "by_player = df_combined.groupby(['Player','Team'])\n",
    "df_means = by_player.mean()\n",
    "df_means"
   ]
  },
  {
   "cell_type": "code",
   "execution_count": 6,
   "metadata": {},
   "outputs": [],
   "source": [
    "#g = sns.PairGrid(df_means)\n",
    "#g.map_lower(sns.scatterplot)\n",
    "#g.map_diag(sns.kdeplot)"
   ]
  },
  {
   "cell_type": "code",
   "execution_count": 7,
   "metadata": {},
   "outputs": [
    {
     "data": {
      "text/plain": [
       "PCA()"
      ]
     },
     "execution_count": 7,
     "metadata": {},
     "output_type": "execute_result"
    }
   ],
   "source": [
    "#PCA\n",
    "X_std = StandardScaler().fit_transform(df_means) # standardize\n",
    "pca = PCA()\n",
    "pca.fit(X_std) # Apply PCA for all components"
   ]
  },
  {
   "cell_type": "code",
   "execution_count": 8,
   "metadata": {},
   "outputs": [
    {
     "data": {
      "image/png": "[encoded data removed]",
      "text/plain": [
       "<Figure size 432x288 with 1 Axes>"
      ]
     },
     "metadata": {
      "needs_background": "light"
     },
     "output_type": "display_data"
    }
   ],
   "source": [
    "# plot cumulative explained variance ratio as function of # of compoents\n",
    "plt.plot(np.cumsum(pca.explained_variance_ratio_))\n",
    "plt.xlabel('number of components')\n",
    "plt.ylabel('cumulative explained variance');"
   ]
  },
  {
   "cell_type": "code",
   "execution_count": 9,
   "metadata": {},
   "outputs": [
    {
     "data": {
      "text/html": [
       "<div>\n",
       "<style scoped>\n",
       "    .dataframe tbody tr th:only-of-type {\n",
       "        vertical-align: middle;\n",
       "    }\n",
       "\n",
       "    .dataframe tbody tr th {\n",
       "        vertical-align: top;\n",
       "    }\n",
       "\n",
       "    .dataframe thead th {\n",
       "        text-align: right;\n",
       "    }\n",
       "</style>\n",
       "<table border=\"1\" class=\"dataframe\">\n",
       "  <thead>\n",
       "    <tr style=\"text-align: right;\">\n",
       "      <th></th>\n",
       "      <th>0</th>\n",
       "      <th>1</th>\n",
       "      <th>2</th>\n",
       "      <th>3</th>\n",
       "      <th>4</th>\n",
       "      <th>5</th>\n",
       "      <th>6</th>\n",
       "      <th>7</th>\n",
       "      <th>8</th>\n",
       "      <th>9</th>\n",
       "      <th>10</th>\n",
       "      <th>11</th>\n",
       "      <th>12</th>\n",
       "      <th>13</th>\n",
       "      <th>14</th>\n",
       "    </tr>\n",
       "  </thead>\n",
       "  <tbody>\n",
       "    <tr>\n",
       "      <th>0</th>\n",
       "      <td>1.778810</td>\n",
       "      <td>1.034432</td>\n",
       "      <td>-0.513942</td>\n",
       "      <td>-0.454321</td>\n",
       "      <td>-0.533640</td>\n",
       "      <td>0.193183</td>\n",
       "      <td>1.456826</td>\n",
       "      <td>-0.284857</td>\n",
       "      <td>-0.020377</td>\n",
       "      <td>0.158928</td>\n",
       "      <td>0.142183</td>\n",
       "      <td>0.281062</td>\n",
       "      <td>0.166272</td>\n",
       "      <td>-0.628227</td>\n",
       "      <td>-0.065525</td>\n",
       "    </tr>\n",
       "    <tr>\n",
       "      <th>1</th>\n",
       "      <td>-1.746864</td>\n",
       "      <td>-1.170815</td>\n",
       "      <td>0.067179</td>\n",
       "      <td>0.871909</td>\n",
       "      <td>0.266091</td>\n",
       "      <td>0.911565</td>\n",
       "      <td>-1.141151</td>\n",
       "      <td>-0.089553</td>\n",
       "      <td>-0.521227</td>\n",
       "      <td>0.022942</td>\n",
       "      <td>-0.046308</td>\n",
       "      <td>0.000853</td>\n",
       "      <td>0.090982</td>\n",
       "      <td>0.002536</td>\n",
       "      <td>-0.052216</td>\n",
       "    </tr>\n",
       "    <tr>\n",
       "      <th>2</th>\n",
       "      <td>-3.457731</td>\n",
       "      <td>-0.710544</td>\n",
       "      <td>-0.630958</td>\n",
       "      <td>-0.664615</td>\n",
       "      <td>0.454154</td>\n",
       "      <td>0.099326</td>\n",
       "      <td>-0.329890</td>\n",
       "      <td>0.174763</td>\n",
       "      <td>0.390711</td>\n",
       "      <td>-0.121023</td>\n",
       "      <td>0.021764</td>\n",
       "      <td>-0.109220</td>\n",
       "      <td>0.054979</td>\n",
       "      <td>0.236007</td>\n",
       "      <td>0.491693</td>\n",
       "    </tr>\n",
       "    <tr>\n",
       "      <th>3</th>\n",
       "      <td>0.095401</td>\n",
       "      <td>2.419195</td>\n",
       "      <td>1.129363</td>\n",
       "      <td>0.532532</td>\n",
       "      <td>-0.475246</td>\n",
       "      <td>-0.763422</td>\n",
       "      <td>0.532145</td>\n",
       "      <td>0.402075</td>\n",
       "      <td>-0.261922</td>\n",
       "      <td>0.022058</td>\n",
       "      <td>1.150014</td>\n",
       "      <td>0.325974</td>\n",
       "      <td>0.187045</td>\n",
       "      <td>-0.624661</td>\n",
       "      <td>-0.543543</td>\n",
       "    </tr>\n",
       "    <tr>\n",
       "      <th>4</th>\n",
       "      <td>-2.413105</td>\n",
       "      <td>0.231057</td>\n",
       "      <td>0.796502</td>\n",
       "      <td>2.122536</td>\n",
       "      <td>-0.302339</td>\n",
       "      <td>-0.788533</td>\n",
       "      <td>1.342259</td>\n",
       "      <td>-1.359264</td>\n",
       "      <td>1.260311</td>\n",
       "      <td>-0.517212</td>\n",
       "      <td>-0.265006</td>\n",
       "      <td>0.447746</td>\n",
       "      <td>-0.119162</td>\n",
       "      <td>0.098208</td>\n",
       "      <td>-0.228654</td>\n",
       "    </tr>\n",
       "    <tr>\n",
       "      <th>...</th>\n",
       "      <td>...</td>\n",
       "      <td>...</td>\n",
       "      <td>...</td>\n",
       "      <td>...</td>\n",
       "      <td>...</td>\n",
       "      <td>...</td>\n",
       "      <td>...</td>\n",
       "      <td>...</td>\n",
       "      <td>...</td>\n",
       "      <td>...</td>\n",
       "      <td>...</td>\n",
       "      <td>...</td>\n",
       "      <td>...</td>\n",
       "      <td>...</td>\n",
       "      <td>...</td>\n",
       "    </tr>\n",
       "    <tr>\n",
       "      <th>262</th>\n",
       "      <td>-3.503270</td>\n",
       "      <td>-1.050412</td>\n",
       "      <td>0.263198</td>\n",
       "      <td>0.633936</td>\n",
       "      <td>0.830377</td>\n",
       "      <td>0.239520</td>\n",
       "      <td>0.125614</td>\n",
       "      <td>-1.308276</td>\n",
       "      <td>1.325334</td>\n",
       "      <td>-0.107017</td>\n",
       "      <td>-0.001819</td>\n",
       "      <td>0.306185</td>\n",
       "      <td>0.184981</td>\n",
       "      <td>-0.083726</td>\n",
       "      <td>0.194262</td>\n",
       "    </tr>\n",
       "    <tr>\n",
       "      <th>263</th>\n",
       "      <td>-2.237971</td>\n",
       "      <td>-1.551855</td>\n",
       "      <td>0.717468</td>\n",
       "      <td>0.241350</td>\n",
       "      <td>0.051292</td>\n",
       "      <td>0.122630</td>\n",
       "      <td>0.139271</td>\n",
       "      <td>0.111431</td>\n",
       "      <td>0.102858</td>\n",
       "      <td>-0.394902</td>\n",
       "      <td>-0.269665</td>\n",
       "      <td>0.203293</td>\n",
       "      <td>-0.169703</td>\n",
       "      <td>-0.358206</td>\n",
       "      <td>-0.115268</td>\n",
       "    </tr>\n",
       "    <tr>\n",
       "      <th>264</th>\n",
       "      <td>1.728918</td>\n",
       "      <td>-0.329530</td>\n",
       "      <td>0.093290</td>\n",
       "      <td>-0.644255</td>\n",
       "      <td>-0.906104</td>\n",
       "      <td>0.436958</td>\n",
       "      <td>0.752396</td>\n",
       "      <td>-0.207548</td>\n",
       "      <td>-0.590382</td>\n",
       "      <td>-0.404080</td>\n",
       "      <td>-0.018761</td>\n",
       "      <td>0.281907</td>\n",
       "      <td>0.053704</td>\n",
       "      <td>-0.327024</td>\n",
       "      <td>-0.087983</td>\n",
       "    </tr>\n",
       "    <tr>\n",
       "      <th>265</th>\n",
       "      <td>-1.852898</td>\n",
       "      <td>3.805829</td>\n",
       "      <td>-0.648315</td>\n",
       "      <td>0.817806</td>\n",
       "      <td>-0.779329</td>\n",
       "      <td>-0.637596</td>\n",
       "      <td>0.066665</td>\n",
       "      <td>1.495860</td>\n",
       "      <td>-0.428912</td>\n",
       "      <td>-1.056441</td>\n",
       "      <td>-0.048759</td>\n",
       "      <td>-0.302471</td>\n",
       "      <td>0.482086</td>\n",
       "      <td>0.094053</td>\n",
       "      <td>-0.095049</td>\n",
       "    </tr>\n",
       "    <tr>\n",
       "      <th>266</th>\n",
       "      <td>5.571138</td>\n",
       "      <td>-2.170052</td>\n",
       "      <td>-0.661597</td>\n",
       "      <td>-0.403416</td>\n",
       "      <td>-0.057863</td>\n",
       "      <td>0.752464</td>\n",
       "      <td>0.469354</td>\n",
       "      <td>1.096280</td>\n",
       "      <td>0.055950</td>\n",
       "      <td>-0.504762</td>\n",
       "      <td>-0.726118</td>\n",
       "      <td>0.146438</td>\n",
       "      <td>0.031087</td>\n",
       "      <td>0.771064</td>\n",
       "      <td>0.415432</td>\n",
       "    </tr>\n",
       "  </tbody>\n",
       "</table>\n",
       "<p>267 rows × 15 columns</p>\n",
       "</div>"
      ],
      "text/plain": [
       "            0         1         2         3         4         5         6  \\\n",
       "0    1.778810  1.034432 -0.513942 -0.454321 -0.533640  0.193183  1.456826   \n",
       "1   -1.746864 -1.170815  0.067179  0.871909  0.266091  0.911565 -1.141151   \n",
       "2   -3.457731 -0.710544 -0.630958 -0.664615  0.454154  0.099326 -0.329890   \n",
       "3    0.095401  2.419195  1.129363  0.532532 -0.475246 -0.763422  0.532145   \n",
       "4   -2.413105  0.231057  0.796502  2.122536 -0.302339 -0.788533  1.342259   \n",
       "..        ...       ...       ...       ...       ...       ...       ...   \n",
       "262 -3.503270 -1.050412  0.263198  0.633936  0.830377  0.239520  0.125614   \n",
       "263 -2.237971 -1.551855  0.717468  0.241350  0.051292  0.122630  0.139271   \n",
       "264  1.728918 -0.329530  0.093290 -0.644255 -0.906104  0.436958  0.752396   \n",
       "265 -1.852898  3.805829 -0.648315  0.817806 -0.779329 -0.637596  0.066665   \n",
       "266  5.571138 -2.170052 -0.661597 -0.403416 -0.057863  0.752464  0.469354   \n",
       "\n",
       "            7         8         9        10        11        12        13  \\\n",
       "0   -0.284857 -0.020377  0.158928  0.142183  0.281062  0.166272 -0.628227   \n",
       "1   -0.089553 -0.521227  0.022942 -0.046308  0.000853  0.090982  0.002536   \n",
       "2    0.174763  0.390711 -0.121023  0.021764 -0.109220  0.054979  0.236007   \n",
       "3    0.402075 -0.261922  0.022058  1.150014  0.325974  0.187045 -0.624661   \n",
       "4   -1.359264  1.260311 -0.517212 -0.265006  0.447746 -0.119162  0.098208   \n",
       "..        ...       ...       ...       ...       ...       ...       ...   \n",
       "262 -1.308276  1.325334 -0.107017 -0.001819  0.306185  0.184981 -0.083726   \n",
       "263  0.111431  0.102858 -0.394902 -0.269665  0.203293 -0.169703 -0.358206   \n",
       "264 -0.207548 -0.590382 -0.404080 -0.018761  0.281907  0.053704 -0.327024   \n",
       "265  1.495860 -0.428912 -1.056441 -0.048759 -0.302471  0.482086  0.094053   \n",
       "266  1.096280  0.055950 -0.504762 -0.726118  0.146438  0.031087  0.771064   \n",
       "\n",
       "           14  \n",
       "0   -0.065525  \n",
       "1   -0.052216  \n",
       "2    0.491693  \n",
       "3   -0.543543  \n",
       "4   -0.228654  \n",
       "..        ...  \n",
       "262  0.194262  \n",
       "263 -0.115268  \n",
       "264 -0.087983  \n",
       "265 -0.095049  \n",
       "266  0.415432  \n",
       "\n",
       "[267 rows x 15 columns]"
      ]
     },
     "execution_count": 9,
     "metadata": {},
     "output_type": "execute_result"
    }
   ],
   "source": [
    "# pca with 15 components(cover about 90% var)\n",
    "pca = PCA(n_components=15)\n",
    "pca15 = pca.fit(X_std)\n",
    "pd.DataFrame(pca15.transform(X_std))"
   ]
  },
  {
   "cell_type": "code",
   "execution_count": 10,
   "metadata": {},
   "outputs": [
    {
     "data": {
      "text/plain": [
       "<matplotlib.axes._subplots.AxesSubplot at 0x20137746ca0>"
      ]
     },
     "execution_count": 10,
     "metadata": {},
     "output_type": "execute_result"
    },
    {
     "data": {
      "image/png": "[encoded data removed]",
      "text/plain": [
       "<Figure size 1080x720 with 1 Axes>"
      ]
     },
     "metadata": {
      "needs_background": "light"
     },
     "output_type": "display_data"
    }
   ],
   "source": [
    "#Apply mutual_info_regression to calculate the dependency of each feature to the rating\n",
    "x = df_means.drop('Rating', axis = 1).copy()\n",
    "y = df_means['Rating']\n",
    "x_train, x_test, y_train, y_test = train_test_split(x,y, test_size = 0.2, random_state = 0)\n",
    "\n",
    "mutual = mutual_info_regression(x, y)\n",
    "feature = list(df_means.columns)[:-1]\n",
    "df_mutual = pd.DataFrame({'Feature': feature, 'Percentage': mutual})\n",
    "fig, ax = plt.subplots(figsize=(15,10))\n",
    "sns.barplot (ax = ax, x = \"Feature\", y = \"Percentage\", data = df_mutual)"
   ]
  },
  {
   "cell_type": "code",
   "execution_count": 11,
   "metadata": {},
   "outputs": [
    {
     "name": "stdout",
     "output_type": "stream",
     "text": [
      "Drop feature with dependency smaller than 10%: \n",
      "['GP', '3P%', 'FT%', 'ORB', 'SPG']\n"
     ]
    }
   ],
   "source": [
    "drop_index = df_mutual.loc[df_mutual['Percentage'] < 0.1]\n",
    "drop_feature = drop_index['Feature']\n",
    "print('Drop feature with dependency smaller than 10%: ')\n",
    "print(list(drop_feature))\n",
    "\n",
    "df = df_means.drop(columns = drop_feature,axis = 1)"
   ]
  },
  {
   "cell_type": "markdown",
   "metadata": {},
   "source": [
    "# Regression Modles"
   ]
  },
  {
   "cell_type": "code",
   "execution_count": 12,
   "metadata": {},
   "outputs": [],
   "source": [
    "x = df.drop('Rating', axis = 1).copy()\n",
    "y = df['Rating']\n",
    "\n",
    "x_train, x_test, y_train, y_test = train_test_split(x,y, test_size = 0.1, random_state = 0)"
   ]
  },
  {
   "cell_type": "code",
   "execution_count": 13,
   "metadata": {},
   "outputs": [
    {
     "name": "stdout",
     "output_type": "stream",
     "text": [
      "Linear Regression Confidence: 89.62%\n",
      "Mean squared error: 2.83\n",
      "R Square: 0.90\n"
     ]
    },
    {
     "data": {
      "image/png": "[encoded data removed]",
      "text/plain": [
       "<Figure size 720x576 with 1 Axes>"
      ]
     },
     "metadata": {
      "needs_background": "light"
     },
     "output_type": "display_data"
    }
   ],
   "source": [
    "#Linear Regression\n",
    "lreg = LinearRegression()\n",
    "lreg.fit(x_train,y_train)\n",
    "\n",
    "lreg_confidence = lreg.score(x_test,y_test)\n",
    "print(f\"Linear Regression Confidence: {round(lreg_confidence*100,2)}%\")\n",
    "\n",
    "y_pred_lreg = lreg.predict(x_test)\n",
    "print('Mean squared error: %.2f' % mean_squared_error(y_test, y_pred_lreg))\n",
    "print('R Square: %.2f' % r2_score(y_test, y_pred_lreg))\n",
    "\n",
    "plt.figure(figsize=(10, 8))\n",
    "plt.scatter(y_test,y_pred_lreg)\n",
    "plt.xlabel('Actual Value')\n",
    "plt.ylabel('Predicted Value')\n",
    "plt.title('Linear Regression Analysis')\n",
    "plt.show()"
   ]
  },
  {
   "cell_type": "code",
   "execution_count": 17,
   "metadata": {},
   "outputs": [
    {
     "data": {
      "text/plain": [
       "array([-0.05848896,  7.63633154, -0.70231103,  3.08786665,  2.2670389 ,\n",
       "        0.45352134,  4.07961585, -0.17627836, -0.77070743,  0.02863786,\n",
       "        0.71730472, -0.19515604,  0.73293872,  1.78390914, -2.65045671])"
      ]
     },
     "execution_count": 17,
     "metadata": {},
     "output_type": "execute_result"
    }
   ],
   "source": [
    "lreg.coef_\n",
    "#MPG FGM FGA FG% 3PM 3PA FTM FTA TOV PF DRB RPG APG BPG PPG"
   ]
  },
  {
   "cell_type": "code",
   "execution_count": 14,
   "metadata": {},
   "outputs": [
    {
     "name": "stdout",
     "output_type": "stream",
     "text": [
      "Logistic Regression Confidence: 7.41%\n",
      "Mean squared error: 11.30\n",
      "R Square: 0.59\n"
     ]
    },
    {
     "name": "stderr",
     "output_type": "stream",
     "text": [
      "C:\\Users\\joura\\anaconda3\\lib\\site-packages\\sklearn\\linear_model\\_logistic.py:762: ConvergenceWarning: lbfgs failed to converge (status=1):\n",
      "STOP: TOTAL NO. of ITERATIONS REACHED LIMIT.\n",
      "\n",
      "Increase the number of iterations (max_iter) or scale the data as shown in:\n",
      "    https://scikit-learn.org/stable/modules/preprocessing.html\n",
      "Please also refer to the documentation for alternative solver options:\n",
      "    https://scikit-learn.org/stable/modules/linear_model.html#logistic-regression\n",
      "  n_iter_i = _check_optimize_result(\n"
     ]
    },
    {
     "data": {
      "image/png": "[encoded data removed]",
      "text/plain": [
       "<Figure size 720x576 with 1 Axes>"
      ]
     },
     "metadata": {
      "needs_background": "light"
     },
     "output_type": "display_data"
    }
   ],
   "source": [
    "#Logistic Regression\n",
    "log = LogisticRegression()\n",
    "log.fit(x_train,y_train)\n",
    "\n",
    "log_confidence = log.score(x_test,y_test)\n",
    "print(f\"Logistic Regression Confidence: {round(log_confidence*100,2)}%\")\n",
    "\n",
    "y_pred_log = log.predict(x_test)\n",
    "print('Mean squared error: %.2f' % mean_squared_error(y_test, y_pred_log))\n",
    "print('R Square: %.2f' % r2_score(y_test, y_pred_log))\n",
    "\n",
    "plt.figure(figsize=(10, 8))\n",
    "plt.scatter(y_test,y_pred_log)\n",
    "plt.xlabel('Actual Value')\n",
    "plt.ylabel('Predicted Value')\n",
    "plt.title('Logistic Regression Analysis')\n",
    "plt.show()"
   ]
  },
  {
   "cell_type": "code",
   "execution_count": 23,
   "metadata": {},
   "outputs": [
    {
     "ename": "NameError",
     "evalue": "name 'predictions' is not defined",
     "output_type": "error",
     "traceback": [
      "\u001b[1;31m---------------------------------------------------------------------------\u001b[0m",
      "\u001b[1;31mNameError\u001b[0m                                 Traceback (most recent call last)",
      "\u001b[1;32m<ipython-input-23-7f9ceef8390d>\u001b[0m in \u001b[0;36m<module>\u001b[1;34m\u001b[0m\n\u001b[0;32m     13\u001b[0m \u001b[0mcorrelation_xy\u001b[0m \u001b[1;33m=\u001b[0m \u001b[0mcorrelation_matrix\u001b[0m\u001b[1;33m[\u001b[0m\u001b[1;36m0\u001b[0m\u001b[1;33m,\u001b[0m\u001b[1;36m1\u001b[0m\u001b[1;33m]\u001b[0m\u001b[1;33m\u001b[0m\u001b[1;33m\u001b[0m\u001b[0m\n\u001b[0;32m     14\u001b[0m \u001b[0mr_squared\u001b[0m \u001b[1;33m=\u001b[0m \u001b[0mcorrelation_xy\u001b[0m\u001b[1;33m**\u001b[0m\u001b[1;36m2\u001b[0m\u001b[1;33m\u001b[0m\u001b[1;33m\u001b[0m\u001b[0m\n\u001b[1;32m---> 15\u001b[1;33m \u001b[0mmse1\u001b[0m \u001b[1;33m=\u001b[0m \u001b[1;33m(\u001b[0m\u001b[0mnp\u001b[0m\u001b[1;33m.\u001b[0m\u001b[0msquare\u001b[0m\u001b[1;33m(\u001b[0m\u001b[0my_test\u001b[0m \u001b[1;33m-\u001b[0m \u001b[0mpredictions\u001b[0m\u001b[1;33m)\u001b[0m\u001b[1;33m)\u001b[0m\u001b[1;33m.\u001b[0m\u001b[0mmean\u001b[0m\u001b[1;33m(\u001b[0m\u001b[0maxis\u001b[0m\u001b[1;33m=\u001b[0m\u001b[1;32mNone\u001b[0m\u001b[1;33m)\u001b[0m\u001b[1;33m\u001b[0m\u001b[1;33m\u001b[0m\u001b[0m\n\u001b[0m\u001b[0;32m     16\u001b[0m \u001b[0mprint\u001b[0m\u001b[1;33m(\u001b[0m\u001b[1;34m'R Square: %.2f'\u001b[0m \u001b[1;33m%\u001b[0m \u001b[0mr_squared\u001b[0m\u001b[1;33m)\u001b[0m\u001b[1;33m\u001b[0m\u001b[1;33m\u001b[0m\u001b[0m\n\u001b[0;32m     17\u001b[0m \u001b[0mprint\u001b[0m\u001b[1;33m(\u001b[0m\u001b[1;34m'MSE1 : %.2f'\u001b[0m \u001b[1;33m%\u001b[0m \u001b[0mmse1\u001b[0m\u001b[1;33m)\u001b[0m\u001b[1;33m\u001b[0m\u001b[1;33m\u001b[0m\u001b[0m\n",
      "\u001b[1;31mNameError\u001b[0m: name 'predictions' is not defined"
     ]
    }
   ],
   "source": [
    "#Neural Network\n",
    "\n",
    "#Start hidden_layers with 22 nodes.\n",
    "hidden_layers = (22,)\n",
    "epochs=10000\n",
    "\n",
    "clf = MLPClassifier(solver='adam', alpha=1e-5,hidden_layer_sizes=(100,200,400,), max_iter = epochs, random_state=1)\n",
    "clf.fit(x_train, y_train)\n",
    "\n",
    "y_pred_clf = clf.predict(x_test)\n",
    "\n",
    "correlation_matrix = np.corrcoef(y_pred_clf, y_test)\n",
    "correlation_xy = correlation_matrix[0,1]\n",
    "r_squared = correlation_xy**2\n",
    "mse1 = (np.square(y_test - predictions)).mean(axis=None)\n",
    "print('R Square: %.2f' % r_squared)\n",
    "print('MSE1 : %.2f' % mse1)\n",
    "\n",
    "plt.figure(figsize=(10, 8))\n",
    "plt.scatter(y_test,y_pred)\n",
    "plt.xlabel('Actual Value')\n",
    "plt.ylabel('Predicted Value')\n",
    "plt.title('Neutral Network Analysis')\n",
    "plt.show()"
   ]
  },
  {
   "cell_type": "code",
   "execution_count": 24,
   "metadata": {},
   "outputs": [
    {
     "data": {
      "text/plain": [
       "array([ True,  True, False, False, False, False, False,  True, False,\n",
       "       False, False, False,  True, False,  True, False, False, False,\n",
       "        True,  True, False,  True, False,  True,  True,  True, False])"
      ]
     },
     "execution_count": 24,
     "metadata": {},
     "output_type": "execute_result"
    }
   ],
   "source": [
    "y_pred_clf == y_pred_log"
   ]
  },
  {
   "cell_type": "code",
   "execution_count": 25,
   "metadata": {},
   "outputs": [
    {
     "data": {
      "text/plain": [
       "array([False, False, False, False, False, False, False, False, False,\n",
       "       False, False, False, False, False, False, False, False, False,\n",
       "       False, False, False, False, False, False, False, False, False])"
      ]
     },
     "execution_count": 25,
     "metadata": {},
     "output_type": "execute_result"
    }
   ],
   "source": [
    "y_pred_clf == y_pred_lreg"
   ]
  },
  {
   "cell_type": "code",
   "execution_count": 26,
   "metadata": {},
   "outputs": [
    {
     "data": {
      "text/plain": [
       "array([False, False, False, False, False, False, False, False, False,\n",
       "       False, False, False, False, False, False, False, False, False,\n",
       "       False, False, False, False, False, False, False, False, False])"
      ]
     },
     "execution_count": 26,
     "metadata": {},
     "output_type": "execute_result"
    }
   ],
   "source": [
    "y_pred_log == y_pred_lreg"
   ]
  },
  {
   "cell_type": "markdown",
   "metadata": {},
   "source": [
    "# Plots"
   ]
  },
  {
   "cell_type": "code",
   "execution_count": 27,
   "metadata": {},
   "outputs": [],
   "source": [
    "import matplotlib.pyplot as plt\n",
    "import seaborn as sns\n",
    "from scipy import stats"
   ]
  },
  {
   "cell_type": "code",
   "execution_count": 39,
   "metadata": {},
   "outputs": [
    {
     "data": {
      "text/plain": [
       "<matplotlib.axes._subplots.AxesSubplot at 0x22c3408aeb0>"
      ]
     },
     "execution_count": 39,
     "metadata": {},
     "output_type": "execute_result"
    },
    {
     "data": {
      "image/png": "[encoded data removed]",
      "text/plain": [
       "<Figure size 432x288 with 1 Axes>"
      ]
     },
     "metadata": {
      "needs_background": "light"
     },
     "output_type": "display_data"
    }
   ],
   "source": [
    "#Rating distribution histogram \n",
    "sns.distplot(df_means.Rating,kde=False)"
   ]
  },
  {
   "cell_type": "code",
   "execution_count": 46,
   "metadata": {},
   "outputs": [
    {
     "data": {
      "text/plain": [
       "<matplotlib.axes._subplots.AxesSubplot at 0x22c34b7ccd0>"
      ]
     },
     "execution_count": 46,
     "metadata": {},
     "output_type": "execute_result"
    },
    {
     "data": {
      "image/png": "[encoded data removed]",
      "text/plain": [
       "<Figure size 1440x576 with 1 Axes>"
      ]
     },
     "metadata": {
      "needs_background": "light"
     },
     "output_type": "display_data"
    }
   ],
   "source": [
    "#Boxplot of player rating in each team\n",
    "plt.figure(figsize=(20, 8))\n",
    "sns.boxplot(x = 'Team', y = 'Rating',data=df_combined)"
   ]
  },
  {
   "cell_type": "code",
   "execution_count": 45,
   "metadata": {},
   "outputs": [
    {
     "data": {
      "text/plain": [
       "<matplotlib.axes._subplots.AxesSubplot at 0x22c34a14130>"
      ]
     },
     "execution_count": 45,
     "metadata": {},
     "output_type": "execute_result"
    },
    {
     "data": {
      "image/png": "[encoded data removed]",
      "text/plain": [
       "<Figure size 720x576 with 1 Axes>"
      ]
     },
     "metadata": {
      "needs_background": "light"
     },
     "output_type": "display_data"
    }
   ],
   "source": [
    "#Boxplot of player rating in teams which got into playoff\n",
    "plt.figure(figsize=(10, 8))\n",
    "sns.boxplot(x = 'Team', y = 'Rating',data=df_19_20_off)"
   ]
  },
  {
   "cell_type": "code",
   "execution_count": 31,
   "metadata": {},
   "outputs": [
    {
     "data": {
      "text/plain": [
       "<matplotlib.axes._subplots.AxesSubplot at 0x22c2e836fa0>"
      ]
     },
     "execution_count": 31,
     "metadata": {},
     "output_type": "execute_result"
    },
    {
     "data": {
      "image/png": "[encoded data removed]",
      "text/plain": [
       "<Figure size 720x720 with 2 Axes>"
      ]
     },
     "metadata": {
      "needs_background": "light"
     },
     "output_type": "display_data"
    }
   ],
   "source": [
    "#Heatmap of correlation of player statistics \n",
    "plt.figure(figsize=(10, 10))\n",
    "sns.heatmap(df_means.corr(), cmap='Reds')"
   ]
  },
  {
   "cell_type": "code",
   "execution_count": 32,
   "metadata": {},
   "outputs": [
    {
     "data": {
      "text/plain": [
       "<matplotlib.axes._subplots.AxesSubplot at 0x22c2e4010d0>"
      ]
     },
     "execution_count": 32,
     "metadata": {},
     "output_type": "execute_result"
    },
    {
     "data": {
      "image/png": "[encoded data removed]",
      "text/plain": [
       "<Figure size 432x288 with 1 Axes>"
      ]
     },
     "metadata": {
      "needs_background": "light"
     },
     "output_type": "display_data"
    }
   ],
   "source": [
    "#Linear Regression model fit of Rating versus PPG\n",
    "sns.regplot(x = 'PPG', y = 'Rating',data=df_means)"
   ]
  },
  {
   "cell_type": "code",
   "execution_count": 33,
   "metadata": {},
   "outputs": [
    {
     "data": {
      "text/plain": [
       "<matplotlib.axes._subplots.AxesSubplot at 0x22c2fa189a0>"
      ]
     },
     "execution_count": 33,
     "metadata": {},
     "output_type": "execute_result"
    },
    {
     "data": {
      "image/png": "[encoded data removed]",
      "text/plain": [
       "<Figure size 432x288 with 1 Axes>"
      ]
     },
     "metadata": {
      "needs_background": "light"
     },
     "output_type": "display_data"
    }
   ],
   "source": [
    "#Linear Regression model fit of Rating versus MPG\n",
    "sns.regplot(x = 'MPG', y = 'Rating',data=df_means)"
   ]
  },
  {
   "cell_type": "code",
   "execution_count": 47,
   "metadata": {},
   "outputs": [
    {
     "data": {
      "text/plain": [
       "<matplotlib.axes._subplots.AxesSubplot at 0x22c347eb5e0>"
      ]
     },
     "execution_count": 47,
     "metadata": {},
     "output_type": "execute_result"
    },
    {
     "data": {
      "image/png": "[encoded data removed]",
      "text/plain": [
       "<Figure size 720x576 with 1 Axes>"
      ]
     },
     "metadata": {
      "needs_background": "light"
     },
     "output_type": "display_data"
    }
   ],
   "source": [
    "#Boxplot of corresponding PPG of each Rating\n",
    "plt.figure(figsize=(10, 8))\n",
    "sns.boxplot(x = 'Rating',y = 'PPG',data=df_means)"
   ]
  },
  {
   "cell_type": "code",
   "execution_count": 48,
   "metadata": {},
   "outputs": [
    {
     "data": {
      "text/plain": [
       "<matplotlib.axes._subplots.AxesSubplot at 0x22c34c56550>"
      ]
     },
     "execution_count": 48,
     "metadata": {},
     "output_type": "execute_result"
    },
    {
     "data": {
      "image/png": "[encoded data removed]",
      "text/plain": [
       "<Figure size 720x576 with 1 Axes>"
      ]
     },
     "metadata": {
      "needs_background": "light"
     },
     "output_type": "display_data"
    }
   ],
   "source": [
    "#Boxplot of corresponding MPG of each Rating\n",
    "plt.figure(figsize=(10, 8))\n",
    "sns.boxplot(x = 'Rating',y = 'MPG',data=df_means)"
   ]
  },
  {
   "cell_type": "code",
   "execution_count": null,
   "metadata": {},
   "outputs": [],
   "source": []
  }
 ],
 "metadata": {
  "kernelspec": {
   "display_name": "Python 3",
   "language": "python",
   "name": "python3"
  },
  "language_info": {
   "codemirror_mode": {
    "name": "ipython",
    "version": 3
   },
   "file_extension": ".py",
   "mimetype": "text/x-python",
   "name": "python",
   "nbconvert_exporter": "python",
   "pygments_lexer": "ipython3",
   "version": "3.8.3"
  }
 },
 "nbformat": 4,
 "nbformat_minor": 4
}
